{
 "cells": [
  {
   "cell_type": "markdown",
   "metadata": {},
   "source": [
    "## Exercício 2 (Entrega em 04/05/2021)"
   ]
  },
  {
   "cell_type": "markdown",
   "metadata": {},
   "source": [
    "> Nome: Michelle Wingter da Silva\n",
    ">\n",
    "> NUSP: 10783243"
   ]
  },
  {
   "cell_type": "markdown",
   "metadata": {},
   "source": [
    "### Configurando ambiente"
   ]
  },
  {
   "cell_type": "markdown",
   "metadata": {},
   "source": [
    "Importando bibliotecas necessárias"
   ]
  },
  {
   "cell_type": "code",
   "execution_count": 1,
   "metadata": {},
   "outputs": [],
   "source": [
    "import glfw\n",
    "from OpenGL.GL import *\n",
    "import OpenGL.GL.shaders\n",
    "import numpy as np"
   ]
  },
  {
   "cell_type": "markdown",
   "metadata": {},
   "source": [
    "Inicializando janela"
   ]
  },
  {
   "cell_type": "code",
   "execution_count": 2,
   "metadata": {},
   "outputs": [],
   "source": [
    "glfw.init()\n",
    "glfw.window_hint(glfw.VISIBLE, glfw.FALSE)\n",
    "window = glfw.create_window(720, 720, \"Exercicio 1\", None, None)\n",
    "glfw.make_context_current(window)"
   ]
  },
  {
   "cell_type": "markdown",
   "metadata": {},
   "source": [
    "Capturando eventos de teclado e mouse"
   ]
  },
  {
   "cell_type": "code",
   "execution_count": 3,
   "metadata": {},
   "outputs": [],
   "source": [
    "def key_event(window,key,scancode,action,mods):\n",
    "    print('[key event] key=',key)\n",
    "    print('[key event] scancode=',scancode)\n",
    "    print('[key event] action=',action)\n",
    "    print('[key event] mods=',mods)\n",
    "    print('-------')\n",
    "    \n",
    "glfw.set_key_callback(window,key_event)\n",
    "\n",
    "def mouse_event(window,button,action,mods):\n",
    "    print('[mouse event] button=',button)\n",
    "    print('[mouse event] action=',action)\n",
    "    print('[mouse event] mods=',mods)\n",
    "    print('-------')\n",
    "glfw.set_mouse_button_callback(window,mouse_event)"
   ]
  },
  {
   "cell_type": "markdown",
   "metadata": {},
   "source": [
    "GLSL para Vertex Shader"
   ]
  },
  {
   "cell_type": "code",
   "execution_count": 4,
   "metadata": {},
   "outputs": [],
   "source": [
    "vertex_code = \"\"\"\n",
    "        attribute vec2 position;\n",
    "        void main(){\n",
    "            gl_Position = vec4(position,0.0,1.0);\n",
    "        }\n",
    "        \"\"\""
   ]
  },
  {
   "cell_type": "markdown",
   "metadata": {},
   "source": [
    "GLSL para Fragment Shader"
   ]
  },
  {
   "cell_type": "code",
   "execution_count": 5,
   "metadata": {},
   "outputs": [],
   "source": [
    "fragment_code = \"\"\"\n",
    "        uniform vec4 color;\n",
    "        void main(){\n",
    "            gl_FragColor = color;\n",
    "        }\n",
    "        \"\"\""
   ]
  },
  {
   "cell_type": "markdown",
   "metadata": {},
   "source": [
    "Requisitando slot para a GPU para nossos programas Vertex e Fragment Shaders"
   ]
  },
  {
   "cell_type": "code",
   "execution_count": 6,
   "metadata": {},
   "outputs": [],
   "source": [
    "# Request a program and shader slots from GPU\n",
    "program  = glCreateProgram()\n",
    "vertex   = glCreateShader(GL_VERTEX_SHADER)\n",
    "fragment = glCreateShader(GL_FRAGMENT_SHADER)"
   ]
  },
  {
   "cell_type": "markdown",
   "metadata": {},
   "source": [
    "Associando nosso código-fonte aos slots solicitados"
   ]
  },
  {
   "cell_type": "code",
   "execution_count": 7,
   "metadata": {},
   "outputs": [],
   "source": [
    "# Set shaders source\n",
    "glShaderSource(vertex, vertex_code)\n",
    "glShaderSource(fragment, fragment_code)"
   ]
  },
  {
   "cell_type": "markdown",
   "metadata": {},
   "source": [
    "Compilando o Vertex Shader"
   ]
  },
  {
   "cell_type": "code",
   "execution_count": 8,
   "metadata": {},
   "outputs": [],
   "source": [
    "# Compile shaders\n",
    "glCompileShader(vertex)\n",
    "if not glGetShaderiv(vertex, GL_COMPILE_STATUS):\n",
    "    error = glGetShaderInfoLog(vertex).decode()\n",
    "    print(error)\n",
    "    raise RuntimeError(\"Erro de compilacao do Vertex Shader\")"
   ]
  },
  {
   "cell_type": "markdown",
   "metadata": {},
   "source": [
    "Compilando o Fragment Shader"
   ]
  },
  {
   "cell_type": "code",
   "execution_count": 9,
   "metadata": {},
   "outputs": [],
   "source": [
    "glCompileShader(fragment)\n",
    "if not glGetShaderiv(fragment, GL_COMPILE_STATUS):\n",
    "    error = glGetShaderInfoLog(fragment).decode()\n",
    "    print(error)\n",
    "    raise RuntimeError(\"Erro de compilacao do Fragment Shader\")"
   ]
  },
  {
   "cell_type": "markdown",
   "metadata": {},
   "source": [
    "Associando os programas compilado ao programa principal"
   ]
  },
  {
   "cell_type": "code",
   "execution_count": 10,
   "metadata": {},
   "outputs": [],
   "source": [
    "# Attach shader objects to the program\n",
    "glAttachShader(program, vertex)\n",
    "glAttachShader(program, fragment)"
   ]
  },
  {
   "cell_type": "markdown",
   "metadata": {},
   "source": [
    "Linkagem do programa"
   ]
  },
  {
   "cell_type": "code",
   "execution_count": 11,
   "metadata": {},
   "outputs": [],
   "source": [
    "# Build program\n",
    "glLinkProgram(program)\n",
    "if not glGetProgramiv(program, GL_LINK_STATUS):\n",
    "    print(glGetProgramInfoLog(program))\n",
    "    raise RuntimeError('Linking error')\n",
    "    \n",
    "# Make program the default program\n",
    "glUseProgram(program)"
   ]
  },
  {
   "cell_type": "markdown",
   "metadata": {},
   "source": [
    "### Preparando dados para enviar a GPU"
   ]
  },
  {
   "cell_type": "code",
   "execution_count": 12,
   "metadata": {},
   "outputs": [],
   "source": [
    "# preparando espaço para 3 vértices usando 2 coordenadas (x,y)\n",
    "vertices = np.zeros(19, [(\"position\", np.float32, 2)])"
   ]
  },
  {
   "cell_type": "code",
   "execution_count": 13,
   "metadata": {},
   "outputs": [],
   "source": [
    "# preenchendo as coordenadas de cada vértice\n",
    "vertices['position'] = [\n",
    "                            ( 0.0, 0.0), # vertice 0 - ponto\n",
    "                            (+0.5,+0.5), # vertice 1 - ponto\n",
    "                            (-0.5,-0.5), # vertice 2 - ponto\n",
    "    \n",
    "                            ( 0.0,+1.0), # vertice 3 - linha\n",
    "                            (+0.0,-1.0), # vertice 4 - linha\n",
    "                            ( 1.0, 0.0), # vertice 5 - linha\n",
    "                            (-1.0, 0.0), # vertice 6 - linha\n",
    "                            ( 0.0, 0.0), # vertice 7 - linha\n",
    "                            (-0.5,-0.5), # vertice 8 - linha\n",
    "    \n",
    "                            ( 0.0, 0.0), # vertice 9 - triangulo\n",
    "                            (+0.5,+1.0), # vertice 10 - triangulo\n",
    "                            (+1.0, 0.0), # vertice 11 - triangulo\n",
    "                            (-1.0,-1.0), # vertice 12 - triangulo\n",
    "                            (-0.5, 0.0), # vertice 13 - triangulo\n",
    "                            (+0.0,-1.0), # vertice 14 - triangulo\n",
    "    \n",
    "                            (-1.0, +1.0), # vertice 15 - quadrado\n",
    "                            (-1.0, +0.5), # vertice 16 - quadrado\n",
    "                            (-0.5, +1.0), # vertice 17 - quadrado\n",
    "                            (-0.5, +0.5), # vertice 18 - quadrado\n",
    "    \n",
    "                            # vertices 19 a 19+64 - circulo\n",
    "                        ]"
   ]
  },
  {
   "cell_type": "code",
   "execution_count": 14,
   "metadata": {},
   "outputs": [],
   "source": [
    "# preparando espaço para adicionar os vértices do circulo\n",
    "vertices.resize(19+65)"
   ]
  },
  {
   "cell_type": "code",
   "execution_count": 15,
   "metadata": {},
   "outputs": [],
   "source": [
    "import math # para calculo com sin e cos\n",
    "\n",
    "num_vertices = 64 # define a \"qualidade\" do circulo\n",
    "pi = 3.14\n",
    "counter = 0\n",
    "radius = 0.2\n",
    "angle = 0.0\n",
    "centerX = 0.5\n",
    "centerY = - 0.5\n",
    "for counter in range(num_vertices):\n",
    "    angle += 2*pi/num_vertices \n",
    "    x = math.cos(angle)*radius\n",
    "    y = math.sin(angle)*radius\n",
    "    vertices[counter+19] = [x+centerX,y+centerY]"
   ]
  },
  {
   "cell_type": "markdown",
   "metadata": {},
   "source": [
    "Para enviar nossos dados da CPU para a GPU, precisamos requisitar um slot."
   ]
  },
  {
   "cell_type": "code",
   "execution_count": 16,
   "metadata": {},
   "outputs": [],
   "source": [
    "# Request a buffer slot from GPU\n",
    "buffer = glGenBuffers(1)\n",
    "# Make this buffer the default one\n",
    "glBindBuffer(GL_ARRAY_BUFFER, buffer)"
   ]
  },
  {
   "cell_type": "markdown",
   "metadata": {},
   "source": [
    "Abaixo, nós enviamos todo o conteúdo da variável vertices."
   ]
  },
  {
   "cell_type": "code",
   "execution_count": 17,
   "metadata": {},
   "outputs": [],
   "source": [
    "# Upload data\n",
    "glBufferData(GL_ARRAY_BUFFER, vertices.nbytes, vertices, GL_DYNAMIC_DRAW)\n",
    "glBindBuffer(GL_ARRAY_BUFFER, buffer)"
   ]
  },
  {
   "cell_type": "markdown",
   "metadata": {},
   "source": [
    "Associando variáveis do programa GLSL (Vertex Shaders) com nossos dados"
   ]
  },
  {
   "cell_type": "code",
   "execution_count": 18,
   "metadata": {},
   "outputs": [],
   "source": [
    "# Bind the position attribute\n",
    "# --------------------------------------\n",
    "stride = vertices.strides[0]\n",
    "offset = ctypes.c_void_p(0)"
   ]
  },
  {
   "cell_type": "code",
   "execution_count": 19,
   "metadata": {},
   "outputs": [],
   "source": [
    "loc = glGetAttribLocation(program, \"position\")\n",
    "glEnableVertexAttribArray(loc)"
   ]
  },
  {
   "cell_type": "code",
   "execution_count": 20,
   "metadata": {},
   "outputs": [],
   "source": [
    "glVertexAttribPointer(loc, 2, GL_FLOAT, False, stride, offset)"
   ]
  },
  {
   "cell_type": "markdown",
   "metadata": {},
   "source": [
    "### Vamos pegar a localização da variável color (uniform) para que possamos alterá-la em nosso laço da janela!"
   ]
  },
  {
   "cell_type": "code",
   "execution_count": 21,
   "metadata": {},
   "outputs": [],
   "source": [
    "loc_color = glGetUniformLocation(program, \"color\")\n",
    "R = 1.0\n",
    "G = 0.0\n",
    "B = 0.0"
   ]
  },
  {
   "cell_type": "markdown",
   "metadata": {},
   "source": [
    "Nesse momento, nós exibimos a janela!"
   ]
  },
  {
   "cell_type": "code",
   "execution_count": 22,
   "metadata": {},
   "outputs": [],
   "source": [
    "glfw.show_window(window)"
   ]
  },
  {
   "cell_type": "markdown",
   "metadata": {},
   "source": [
    "#### Funções de desenho"
   ]
  },
  {
   "cell_type": "code",
   "execution_count": 23,
   "metadata": {},
   "outputs": [],
   "source": [
    "def desenha_ponto(inicio, num):\n",
    "    glDrawArrays(GL_POINTS, inicio, num) #pontos\n",
    "\n",
    "def desenha_linha(inicio, num):\n",
    "     glDrawArrays(GL_LINES, inicio, num) #linhas\n",
    "        \n",
    "def desenha_triangulo(inicio, num):\n",
    "     glDrawArrays(GL_TRIANGLES, inicio, num) #linhas\n",
    "        \n",
    "def desenha_quadrado(inicio, num):\n",
    "     glDrawArrays(GL_TRIANGLE_STRIP, inicio, num) #linhas\n",
    "        \n",
    "def desenha_circulo(inicio, num):\n",
    "     glDrawArrays(GL_TRIANGLE_FAN, inicio, num) #linhas\n",
    "        \n",
    "def pinta(r, g, b):\n",
    "     glUniform4f(loc_color, r, g, b, 1.0) ### modificando a cor do objeto!"
   ]
  },
  {
   "cell_type": "markdown",
   "metadata": {},
   "source": [
    "### Loop principal da janela."
   ]
  },
  {
   "cell_type": "code",
   "execution_count": 24,
   "metadata": {},
   "outputs": [],
   "source": [
    "while not glfw.window_should_close(window):\n",
    "\n",
    "    glfw.poll_events() \n",
    "\n",
    "    \n",
    "    glClear(GL_COLOR_BUFFER_BIT) \n",
    "    glClearColor(1.0, 1.0, 1.0, 1.0)\n",
    "    \n",
    "    #glPolygonMode(GL_FRONT_AND_BACK, GL_LINE)\n",
    "    '''\n",
    "    glUniform4f(loc_color, 1.0, 0, 0, 1.0) ### modificando a cor do objeto!\n",
    "    \n",
    "    ### glDrawArrays\n",
    "    glDrawArrays(GL_POINTS, 0, 3) #pontos\n",
    "    \n",
    "    glUniform4f(loc_color, 0, 0, 0, 1.0) ### modificando a cor do objeto!\n",
    "    glDrawArrays(GL_LINES, 3, 6) #linhas\n",
    "    \n",
    "    glUniform4f(loc_color, 1.0, 0, 0, 1.0) ### modificando a cor do objeto!\n",
    "    glDrawArrays(GL_TRIANGLES, 9, 6) #triangulos\n",
    "    \n",
    "    glUniform4f(loc_color, 1.0, 1.0, 0, 1.0) ### modificando a cor do objeto!\n",
    "    glDrawArrays(GL_TRIANGLE_STRIP, 15, 4) #quadrados\n",
    "    \n",
    "    glUniform4f(loc_color, 1.0, 0, 1.0, 1.0) ### modificando a cor do objeto!\n",
    "    glDrawArrays(GL_TRIANGLE_FAN, 19, 64) #circulo\n",
    "    '''\n",
    "    \n",
    "    pinta(1,0,0)\n",
    "    desenha_ponto(0,3)\n",
    "    \n",
    "    pinta(0,0,0)\n",
    "    desenha_linha(3,6)\n",
    "    \n",
    "    pinta(1,0,0)\n",
    "    desenha_triangulo(9,6)\n",
    "    \n",
    "    pinta(1,1,0)\n",
    "    desenha_quadrado(15,4)\n",
    "    \n",
    "    pinta(1,0,1)\n",
    "    desenha_circulo(19,64)\n",
    "\n",
    "    glfw.swap_buffers(window)\n",
    "\n",
    "glfw.terminate()"
   ]
  },
  {
   "cell_type": "markdown",
   "metadata": {},
   "source": [
    "## Resultado:"
   ]
  },
  {
   "cell_type": "markdown",
   "metadata": {},
   "source": [
    "![imagem](exercicio1.PNG)"
   ]
  },
  {
   "cell_type": "code",
   "execution_count": null,
   "metadata": {},
   "outputs": [],
   "source": []
  }
 ],
 "metadata": {
  "kernelspec": {
   "display_name": "Python 3",
   "language": "python",
   "name": "python3"
  },
  "language_info": {
   "codemirror_mode": {
    "name": "ipython",
    "version": 3
   },
   "file_extension": ".py",
   "mimetype": "text/x-python",
   "name": "python",
   "nbconvert_exporter": "python",
   "pygments_lexer": "ipython3",
   "version": "3.8.5"
  }
 },
 "nbformat": 4,
 "nbformat_minor": 4
}
